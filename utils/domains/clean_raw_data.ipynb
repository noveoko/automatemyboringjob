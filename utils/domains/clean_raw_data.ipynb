{
 "cells": [
  {
   "cell_type": "code",
   "execution_count": 217,
   "metadata": {},
   "outputs": [],
   "source": [
    "import re\n",
    "import csv\n",
    "domains = []"
   ]
  },
  {
   "cell_type": "code",
   "execution_count": 218,
   "metadata": {},
   "outputs": [],
   "source": [
    "with open('1995_domain_names.txt', 'r', encoding='utf-8') as f:\n",
    "    for line in f.readlines():\n",
    "        parts = re.split(\"\\s+\", line)\n",
    "        domains.extend(parts)"
   ]
  },
  {
   "cell_type": "code",
   "execution_count": 219,
   "metadata": {},
   "outputs": [],
   "source": [
    "domains_clean = [a.strip() for a in domains if a != '' and a is not None and '.' in a and ':' not in a]"
   ]
  },
  {
   "cell_type": "code",
   "execution_count": 220,
   "metadata": {},
   "outputs": [
    {
     "data": {
      "text/plain": [
       "100463"
      ]
     },
     "execution_count": 220,
     "metadata": {},
     "output_type": "execute_result"
    }
   ],
   "source": [
    "len(domains_clean)"
   ]
  },
  {
   "cell_type": "code",
   "execution_count": 221,
   "metadata": {},
   "outputs": [
    {
     "data": {
      "text/plain": [
       "['0.COM',\n",
       " '1-800-DATABASE.COM',\n",
       " '1-800-HOMES.COM',\n",
       " '1-800-TAXLAWS.COM',\n",
       " '1-800BOOKSTORE.COM',\n",
       " '1-WORLD.COM',\n",
       " '1.COM',\n",
       " '1000-OAKS.COM',\n",
       " '1000KLUB.COM',\n",
       " '1001.COM']"
      ]
     },
     "execution_count": 221,
     "metadata": {},
     "output_type": "execute_result"
    }
   ],
   "source": [
    "domains_clean[0:10]"
   ]
  },
  {
   "cell_type": "code",
   "execution_count": 232,
   "metadata": {},
   "outputs": [
    {
     "name": "stdout",
     "output_type": "stream",
     "text": [
      "['INTERNATIONALLAW.COM', 'INTERNATIONALMARKET.COM', 'INTERNATIONALMEDIA.COM', 'INTERNATIONALQUOTELINK.COM']\n"
     ]
    }
   ],
   "source": [
    "unique_domains = []\n",
    "endings = {a.split(\".\")[-1] for a in domains_clean}\n",
    "top_levels = [(f'.{x}', x) for x in endings]\n",
    "\n",
    "def many_domains(domain_string):    \n",
    "    for top_level, top_without_dot in top_levels:\n",
    "        if top_level in domain_string:\n",
    "            return [f\"{a}{top_level}\" for a in domain_string.split(top_level) if a != '']\n",
    "            \n",
    "print(many_domains('INTERNATIONALLAW.COMINTERNATIONALMARKET.COMINTERNATIONALMEDIA.COMINTERNATIONALQUOTELINK.COM'))\n",
    "\n",
    "for domain in domains_clean:\n",
    "    if domain.count(\".\") == 0:\n",
    "        raise ValueError(f\"Not a domain: {domain}\")\n",
    "    elif domain.count(\".\") == 1:\n",
    "        unique_domains.append(domain)\n",
    "    elif domain.count(\".\") > 1:\n",
    "        unique_domains.extend(many_domains(domain))\n",
    "\n",
    "# set(domains_clean)-set(unique_domains)"
   ]
  },
  {
   "cell_type": "code",
   "execution_count": 233,
   "metadata": {},
   "outputs": [
    {
     "data": {
      "text/plain": [
       "101333"
      ]
     },
     "execution_count": 233,
     "metadata": {},
     "output_type": "execute_result"
    }
   ],
   "source": [
    "len(unique_domains)"
   ]
  },
  {
   "cell_type": "code",
   "execution_count": 234,
   "metadata": {},
   "outputs": [
    {
     "data": {
      "text/plain": [
       "['VSCC.CC.TN.US',\n",
       " 'VSTM.NY.US',\n",
       " 'WA.MD.US',\n",
       " 'WATERLOO.IA.US',\n",
       " 'WAUKEE.IA.US',\n",
       " 'WHITEPLAINS.NY.US',\n",
       " 'WI.MD.US',\n",
       " 'WO.MD.US',\n",
       " 'WSCC.CC.TN.US',\n",
       " 'ZAYANTE.CA.US']"
      ]
     },
     "execution_count": 234,
     "metadata": {},
     "output_type": "execute_result"
    }
   ],
   "source": [
    "list(unique_domains)[-10:]"
   ]
  },
  {
   "cell_type": "code",
   "execution_count": 235,
   "metadata": {},
   "outputs": [],
   "source": [
    "with open('1995_web_domains.csv','w', encoding='utf-8', newline='') as f:\n",
    "    writer = csv.DictWriter(f, fieldnames=['domain', 'year'])\n",
    "    writer.writeheader()\n",
    "    for domain in unique_domains:\n",
    "        writer.writerow({\"domain\": domain, \"year\":1995})"
   ]
  },
  {
   "cell_type": "code",
   "execution_count": 236,
   "metadata": {},
   "outputs": [],
   "source": [
    "lines = [a for a in open('1995_web_domains.csv','r',encoding='utf-8').readlines() if a != '']"
   ]
  },
  {
   "cell_type": "code",
   "execution_count": 237,
   "metadata": {},
   "outputs": [],
   "source": [
    "by_longest_first = sorted(lines, key=lambda x: len(x),reverse=True)"
   ]
  },
  {
   "cell_type": "code",
   "execution_count": 239,
   "metadata": {},
   "outputs": [
    {
     "data": {
      "text/plain": [
       "['G.ORG,1995\\n',\n",
       " 'H.ORG,1995\\n',\n",
       " 'I.ORG,1995\\n',\n",
       " 'J.ORG,1995\\n',\n",
       " 'K.ORG,1995\\n',\n",
       " 'L.ORG,1995\\n',\n",
       " 'M.ORG,1995\\n',\n",
       " 'N.ORG,1995\\n',\n",
       " 'O.ORG,1995\\n',\n",
       " 'P.ORG,1995\\n',\n",
       " 'Q.ORG,1995\\n',\n",
       " 'R.ORG,1995\\n',\n",
       " 'S.ORG,1995\\n',\n",
       " 'T.ORG,1995\\n',\n",
       " 'U.ORG,1995\\n',\n",
       " 'V.ORG,1995\\n',\n",
       " 'W.ORG,1995\\n',\n",
       " 'X.ORG,1995\\n',\n",
       " 'Y.ORG,1995\\n',\n",
       " 'Z.ORG,1995\\n']"
      ]
     },
     "execution_count": 239,
     "metadata": {},
     "output_type": "execute_result"
    }
   ],
   "source": [
    "by_longest_first[-20:]"
   ]
  },
  {
   "cell_type": "code",
   "execution_count": null,
   "metadata": {},
   "outputs": [],
   "source": []
  },
  {
   "cell_type": "code",
   "execution_count": null,
   "metadata": {},
   "outputs": [],
   "source": []
  }
 ],
 "metadata": {
  "kernelspec": {
   "display_name": "Python 3",
   "language": "python",
   "name": "python3"
  },
  "language_info": {
   "codemirror_mode": {
    "name": "ipython",
    "version": 3
   },
   "file_extension": ".py",
   "mimetype": "text/x-python",
   "name": "python",
   "nbconvert_exporter": "python",
   "pygments_lexer": "ipython3",
   "version": "3.7.6"
  }
 },
 "nbformat": 4,
 "nbformat_minor": 4
}
